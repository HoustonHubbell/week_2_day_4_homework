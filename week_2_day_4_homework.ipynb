{
 "cells": [
  {
   "cell_type": "markdown",
   "metadata": {},
   "source": [
    "# User-Defined Functions, Scoping & decorators"
   ]
  },
  {
   "cell_type": "markdown",
   "metadata": {},
   "source": [
    "## Tasks Today:\n",
    "\n",
    "1) Functions <br>\n",
    " &nbsp;&nbsp;&nbsp;&nbsp; a) User-Defined vs. Built-In Functions <br>\n",
    " &nbsp;&nbsp;&nbsp;&nbsp; b) Accepting Parameters <br>\n",
    " &nbsp;&nbsp;&nbsp;&nbsp; c) Default Parameters <br>\n",
    " &nbsp;&nbsp;&nbsp;&nbsp; d) Making an Argument Optional <br>\n",
    " &nbsp;&nbsp;&nbsp;&nbsp; e) Keyword Arguments <br>\n",
    " &nbsp;&nbsp;&nbsp;&nbsp; f) Returning Values <br>\n",
    " &nbsp;&nbsp;&nbsp;&nbsp; g) *args <br>\n",
    " &nbsp;&nbsp;&nbsp;&nbsp; h) Docstring <br>\n",
    " &nbsp;&nbsp;&nbsp;&nbsp; i) Using a User Function in a Loop <br>\n",
    "2) Scope\n",
    "3) Creating more User-Defined functions <br>\n",
    "4) decorators"
   ]
  },
  {
   "cell_type": "markdown",
   "metadata": {},
   "source": [
    "\n",
    "## Functions"
   ]
  },
  {
   "cell_type": "markdown",
   "metadata": {},
   "source": [
    "##### User-Defined vs. Built-In Functions"
   ]
  },
  {
   "cell_type": "code",
   "execution_count": 3,
   "metadata": {},
   "outputs": [
    {
     "name": "stdout",
     "output_type": "stream",
     "text": [
      "hello\n",
      "<function say_hello at 0x0000016B2B79CE50>\n",
      "hello world\n"
     ]
    }
   ],
   "source": [
    "# built in function\n",
    "print(\"hello\")\n",
    "\n",
    "#user defined function\n",
    "def say_hello():\n",
    "    return \"hello world\"\n",
    "# show function in memory\n",
    "print(say_hello)\n",
    "\n",
    "# calling a function\n",
    "print(say_hello())"
   ]
  },
  {
   "cell_type": "markdown",
   "metadata": {},
   "source": [
    "##### Accepting Parameters"
   ]
  },
  {
   "cell_type": "code",
   "execution_count": 5,
   "metadata": {
    "scrolled": true
   },
   "outputs": [
    {
     "name": "stdout",
     "output_type": "stream",
     "text": [
      "Hello my full name is Hootie Hubbell.\n"
     ]
    }
   ],
   "source": [
    "# order matters\n",
    "# a variable or parameter can be any type of object\n",
    "\n",
    "first = \"Hootie\"\n",
    "last = \"Hubbell\"\n",
    "\n",
    "def print_full_name(first_name, last_name):\n",
    "    return f\"Hello my full name is {first_name} {last_name}.\"\n",
    "\n",
    "print(print_full_name(first, last))\n",
    "\n",
    "    "
   ]
  },
  {
   "cell_type": "markdown",
   "metadata": {},
   "source": [
    "##### Default Parameters"
   ]
  },
  {
   "cell_type": "code",
   "execution_count": 9,
   "metadata": {},
   "outputs": [
    {
     "name": "stdout",
     "output_type": "stream",
     "text": [
      "The name is Bond...James Bond.\n",
      "The name is Brown...James Brown.\n",
      "The name is Bond...james Bond.\n"
     ]
    }
   ],
   "source": [
    "#default parameters must come after non default parameters ata ll times\n",
    "\n",
    "def agents_name(first_name, last_name = \"Bond\"):\n",
    "    return f\"The name is {last_name}...{first_name} {last_name}.\"\n",
    "\n",
    "print(agents_name(\"James\"))\n",
    "print(agents_name(\"James\", last_name = \"Brown\"))\n",
    "print(agents_name(\"james\"))\n",
    "\n"
   ]
  },
  {
   "cell_type": "code",
   "execution_count": 10,
   "metadata": {},
   "outputs": [
    {
     "name": "stdout",
     "output_type": "stream",
     "text": [
      "Your bday is the 24th day of March in the year 1963.\n"
     ]
    }
   ],
   "source": [
    "def march_bday(day, year, month = \"March\"):\n",
    "    return f\"Your bday is the {day}th day of {month} in the year {year}.\"\n",
    "print(march_bday(24, 1963))"
   ]
  },
  {
   "cell_type": "markdown",
   "metadata": {},
   "source": [
    "##### Making an Argument Optional"
   ]
  },
  {
   "cell_type": "code",
   "execution_count": 12,
   "metadata": {},
   "outputs": [
    {
     "name": "stdout",
     "output_type": "stream",
     "text": [
      "Hello mr.  Ed\n",
      "Hello bo jack horseman\n"
     ]
    }
   ],
   "source": [
    "def horse_name(first, middle=\"\", last='Ed'):\n",
    "    return f\"Hello {first} {middle} {last}\"\n",
    "print(horse_name(\"mr.\"))\n",
    "print(horse_name(\"bo\", \"jack\", last= \"horseman\"))"
   ]
  },
  {
   "cell_type": "markdown",
   "metadata": {},
   "source": [
    "##### Keyword Arguments"
   ]
  },
  {
   "cell_type": "code",
   "execution_count": 13,
   "metadata": {},
   "outputs": [
    {
     "name": "stdout",
     "output_type": "stream",
     "text": [
      "professor x's power is mind control.\n"
     ]
    }
   ],
   "source": [
    "# you can access an argument by its 'Keyword' out of order\n",
    "def hero(name, power = 'flying'):\n",
    "    return f\"{name}'s power is {power}.\"\n",
    "print(hero(power='mind control', name='professor x'))"
   ]
  },
  {
   "cell_type": "markdown",
   "metadata": {},
   "source": [
    "## Create a function that accepts position, default, and optional arguments.."
   ]
  },
  {
   "cell_type": "code",
   "execution_count": 17,
   "metadata": {},
   "outputs": [
    {
     "name": "stdout",
     "output_type": "stream",
     "text": [
      "My future childs name is Harley  Hubbell\n",
      "They day i will die is january 7th 2367.\n"
     ]
    }
   ],
   "source": [
    "def childs_name(first, middle= '', last=\"Hubbell\"):\n",
    "    return f\"My future childs name is {first} {middle} {last}\"\n",
    "print(childs_name(\"Harley\"))\n",
    "\n",
    "def dat_of_death(month='', day = '7', year='2367'):\n",
    "    return f\"They day i will die is {month} {day}th {year}.\"\n",
    "print(dat_of_death('january'))                                                                                                                                                          "
   ]
  },
  {
   "cell_type": "markdown",
   "metadata": {},
   "source": [
    "# Creating a start, stop, step function"
   ]
  },
  {
   "cell_type": "code",
   "execution_count": 18,
   "metadata": {},
   "outputs": [
    {
     "name": "stdout",
     "output_type": "stream",
     "text": [
      "2\n",
      "5\n",
      "8\n",
      "11\n"
     ]
    }
   ],
   "source": [
    "def my_range(stop, start = 0, step = 1):\n",
    "    for i in range(start,stop,step):\n",
    "        print(i)\n",
    "my_range(13,2,3)"
   ]
  },
  {
   "cell_type": "markdown",
   "metadata": {},
   "source": [
    "##### Returning Values"
   ]
  },
  {
   "cell_type": "code",
   "execution_count": 19,
   "metadata": {},
   "outputs": [
    {
     "data": {
      "text/plain": [
       "2679"
      ]
     },
     "execution_count": 19,
     "metadata": {},
     "output_type": "execute_result"
    }
   ],
   "source": [
    "def add_nums(num1, num2):\n",
    "    return num1+num2\n",
    "add_nums(2234,445)"
   ]
  },
  {
   "cell_type": "markdown",
   "metadata": {},
   "source": [
    "   *args / **kwargs (keyword arguments)"
   ]
  },
  {
   "cell_type": "code",
   "execution_count": 20,
   "metadata": {},
   "outputs": [
    {
     "name": "stdout",
     "output_type": "stream",
     "text": [
      "1\n",
      "(10, 'megazord')\n",
      "{'treckies': ['warf', 'data'], 'subject': 'python'}\n"
     ]
    }
   ],
   "source": [
    "def pirates(num1, *args, **kwargs):\n",
    "    print(num1)\n",
    "    print(args)\n",
    "    print(kwargs)\n",
    "\n",
    "pirates(1,10,\"megazord\", treckies = ['warf', 'data'], subject = 'python')\n"
   ]
  },
  {
   "cell_type": "code",
   "execution_count": 86,
   "metadata": {},
   "outputs": [
    {
     "name": "stdout",
     "output_type": "stream",
     "text": [
      "{('Hootie', 'Joseph', 'Juliana')}\n"
     ]
    },
    {
     "ename": "TypeError",
     "evalue": "unhashable type: 'dict'",
     "output_type": "error",
     "traceback": [
      "\u001b[1;31m---------------------------------------------------------------------------\u001b[0m",
      "\u001b[1;31mTypeError\u001b[0m                                 Traceback (most recent call last)",
      "Input \u001b[1;32mIn [86]\u001b[0m, in \u001b[0;36m<cell line: 7>\u001b[1;34m()\u001b[0m\n\u001b[0;32m      4\u001b[0m     \u001b[38;5;28mprint\u001b[39m({best})\n\u001b[0;32m      5\u001b[0m     \u001b[38;5;28mprint\u001b[39m({worst})\n\u001b[1;32m----> 7\u001b[0m \u001b[43mbest_names\u001b[49m\u001b[43m(\u001b[49m\u001b[38;5;124;43m'\u001b[39;49m\u001b[38;5;124;43mHootie\u001b[39;49m\u001b[38;5;124;43m'\u001b[39;49m\u001b[43m,\u001b[49m\u001b[43m \u001b[49m\u001b[38;5;124;43m'\u001b[39;49m\u001b[38;5;124;43mJoseph\u001b[39;49m\u001b[38;5;124;43m'\u001b[39;49m\u001b[43m,\u001b[49m\u001b[43m \u001b[49m\u001b[38;5;124;43m'\u001b[39;49m\u001b[38;5;124;43mJuliana\u001b[39;49m\u001b[38;5;124;43m'\u001b[39;49m\u001b[43m,\u001b[49m\u001b[43m \u001b[49m\u001b[43mterrible\u001b[49m\u001b[43m \u001b[49m\u001b[38;5;241;43m=\u001b[39;49m\u001b[43m \u001b[49m\u001b[43m[\u001b[49m\u001b[38;5;124;43m'\u001b[39;49m\u001b[38;5;124;43mkeith\u001b[39;49m\u001b[38;5;124;43m'\u001b[39;49m\u001b[43m,\u001b[49m\u001b[43m \u001b[49m\u001b[38;5;124;43m'\u001b[39;49m\u001b[38;5;124;43mdablin\u001b[39;49m\u001b[38;5;124;43m'\u001b[39;49m\u001b[43m,\u001b[49m\u001b[43m \u001b[49m\u001b[38;5;124;43m'\u001b[39;49m\u001b[38;5;124;43mcrater\u001b[39;49m\u001b[38;5;124;43m'\u001b[39;49m\u001b[43m,\u001b[49m\u001b[43m \u001b[49m\u001b[38;5;124;43m'\u001b[39;49m\u001b[38;5;124;43mjosston\u001b[39;49m\u001b[38;5;124;43m'\u001b[39;49m\u001b[43m,\u001b[49m\u001b[43m \u001b[49m\u001b[38;5;124;43m'\u001b[39;49m\u001b[38;5;124;43mdamien\u001b[39;49m\u001b[38;5;124;43m'\u001b[39;49m\u001b[43m]\u001b[49m\u001b[43m)\u001b[49m\n\u001b[0;32m      9\u001b[0m \u001b[38;5;28;01mdef\u001b[39;00m \u001b[38;5;21mfilms\u001b[39m(\u001b[38;5;241m*\u001b[39mmovie, \u001b[38;5;241m*\u001b[39m\u001b[38;5;241m*\u001b[39mseries):\n\u001b[0;32m     10\u001b[0m     \u001b[38;5;28mprint\u001b[39m(movie)\n",
      "Input \u001b[1;32mIn [86]\u001b[0m, in \u001b[0;36mbest_names\u001b[1;34m(*best, **worst)\u001b[0m\n\u001b[0;32m      3\u001b[0m \u001b[38;5;28;01mdef\u001b[39;00m \u001b[38;5;21mbest_names\u001b[39m(\u001b[38;5;241m*\u001b[39mbest, \u001b[38;5;241m*\u001b[39m\u001b[38;5;241m*\u001b[39mworst):    \n\u001b[0;32m      4\u001b[0m     \u001b[38;5;28mprint\u001b[39m({best})\n\u001b[1;32m----> 5\u001b[0m     \u001b[38;5;28mprint\u001b[39m({worst})\n",
      "\u001b[1;31mTypeError\u001b[0m: unhashable type: 'dict'"
     ]
    }
   ],
   "source": [
    "#write a function that prints args and kwargs on its own line\n",
    "\n",
    "def best_names(*best, **worst):    \n",
    "    print({best})\n",
    "    print({worst})\n",
    "    \n",
    "best_names('Hootie', 'Joseph', 'Juliana', terrible = ['keith', 'dablin', 'crater', 'josston', 'damien'])\n",
    "\n",
    "def films(*movie, **series):\n",
    "    print(movie)\n",
    "    print(series)\n",
    "    \n",
    "films('Gladiator', 'Life is Beautiful', LOTR = ['FOTR', 'Two Towers'])\n"
   ]
  },
  {
   "cell_type": "markdown",
   "metadata": {},
   "source": [
    "##### Docstring"
   ]
  },
  {
   "cell_type": "code",
   "execution_count": 30,
   "metadata": {},
   "outputs": [
    {
     "name": "stdout",
     "output_type": "stream",
     "text": [
      "Hootie\n",
      "Juliana\n"
     ]
    }
   ],
   "source": [
    "def print_names(list1):\n",
    "    \"\"\"\n",
    "    print_names(list1)\n",
    "    function requires a list to be passed\n",
    "    \"\"\"\n",
    "    for name in list1:\n",
    "        print(name)\n",
    "        \n",
    "print_names(['Hootie', 'Juliana'])"
   ]
  },
  {
   "cell_type": "markdown",
   "metadata": {},
   "source": [
    "##### Using a User Function in a Loop"
   ]
  },
  {
   "cell_type": "code",
   "execution_count": 31,
   "metadata": {},
   "outputs": [
    {
     "name": "stdout",
     "output_type": "stream",
     "text": [
      "what do you want to doplay outside\n",
      "Your answer is play outside\n",
      "ready to quit?no\n",
      "what do you want to domake money\n",
      "Your answer is make money\n",
      "ready to quit?yes\n"
     ]
    }
   ],
   "source": [
    "def print_input(answer):\n",
    "    print(f\"Your answer is {answer}\")\n",
    "    \n",
    "while True:\n",
    "    ask = input(\"what do you want to do\")\n",
    "    print_input(ask)\n",
    "    \n",
    "    response = input(\"ready to quit?\")\n",
    "    if response.lower() == 'yes':\n",
    "        break"
   ]
  },
  {
   "cell_type": "markdown",
   "metadata": {},
   "source": [
    "## Function Exercises <br>\n",
    "### Exercise 1\n",
    "<p>Write a function that loops through a list of first_names and a list of last_names, combines the two and return a list of full_names</p>"
   ]
  },
  {
   "cell_type": "code",
   "execution_count": 46,
   "metadata": {},
   "outputs": [
    {
     "data": {
      "text/plain": [
       "['John Smith', 'Evan Smith', 'Jordan Williams', 'Max Bell']"
      ]
     },
     "execution_count": 46,
     "metadata": {},
     "output_type": "execute_result"
    }
   ],
   "source": [
    "first_name = ['John', 'Evan', 'Jordan', 'Max']\n",
    "last_name = ['Smith', 'Smith', 'Williams', 'Bell']\n",
    "\n",
    "# Output: ['John Smith', 'Evan Smith', 'Jordan Williams', 'Max Bell']\n",
    "\n",
    "def full_name(first_name, last_name):\n",
    "    \n",
    "    return [first_name[i] + \" \" + last_name[i] for i in range(len(first_name))]\n",
    "\n",
    "full_name(first_name, last_name)\n",
    "\n",
    "\n",
    "\n",
    "def total(first_name, last_name):\n",
    "    return [first_name[i] + \" \" + last_name[i] for i in range(len(first_name))]\n",
    "total(first_name, last_name)"
   ]
  },
  {
   "cell_type": "markdown",
   "metadata": {},
   "source": [
    "### Exercise 2\n",
    "Create a function that alters all values in the given list by subtracting 5 and then doubling them."
   ]
  },
  {
   "cell_type": "code",
   "execution_count": 61,
   "metadata": {},
   "outputs": [
    {
     "data": {
      "text/plain": [
       "[0, 10, 20, 30, -4]"
      ]
     },
     "execution_count": 61,
     "metadata": {},
     "output_type": "execute_result"
    }
   ],
   "source": [
    "input_list = [5,10,15,20,3]\n",
    "# output = [0,10,20,30,-4]\n",
    "\n",
    "def double(input_list):\n",
    "    return [int(input_list[i] - 5) * 2 for i in range(len(input_list))]\n",
    "double(input_list)\n",
    "\n",
    "def fun(input_list):\n",
    "    return [(x-5)*2 for x in input_list]\n",
    "fun(input_list)"
   ]
  },
  {
   "cell_type": "code",
   "execution_count": 62,
   "metadata": {},
   "outputs": [
    {
     "data": {
      "text/plain": [
       "[0, 10, 20, 30, -4]"
      ]
     },
     "execution_count": 62,
     "metadata": {},
     "output_type": "execute_result"
    }
   ],
   "source": [
    "input_list = [5,10,15,20,3]\n",
    "\n",
    "def func2(value):\n",
    "    return (value -5) * 2\n",
    "\n",
    "def add1(a_list, function):\n",
    "    return [function(x) for x in a_list]\n",
    "\n",
    "add1(input_list, func2)"
   ]
  },
  {
   "cell_type": "markdown",
   "metadata": {},
   "source": [
    "### Exercise 3\n",
    "Create a function that takes in a list of strings and filters out the strings that DO NOT contain vowels. "
   ]
  },
  {
   "cell_type": "code",
   "execution_count": 68,
   "metadata": {},
   "outputs": [
    {
     "ename": "TypeError",
     "evalue": "'str' object cannot be interpreted as an integer",
     "output_type": "error",
     "traceback": [
      "\u001b[1;31m---------------------------------------------------------------------------\u001b[0m",
      "\u001b[1;31mTypeError\u001b[0m                                 Traceback (most recent call last)",
      "Input \u001b[1;32mIn [68]\u001b[0m, in \u001b[0;36m<cell line: 17>\u001b[1;34m()\u001b[0m\n\u001b[0;32m     13\u001b[0m     string_list2 \u001b[38;5;241m=\u001b[39m [i \u001b[38;5;28;01mfor\u001b[39;00m i \u001b[38;5;129;01min\u001b[39;00m string_list \u001b[38;5;28;01mif\u001b[39;00m \u001b[38;5;28mrange\u001b[39m(i) \u001b[38;5;241m!=\u001b[39m \u001b[38;5;124m\"\u001b[39m\u001b[38;5;124ma,e,i,o,u\u001b[39m\u001b[38;5;124m\"\u001b[39m]\n\u001b[0;32m     15\u001b[0m     \u001b[38;5;28;01mreturn\u001b[39;00m string_list2\n\u001b[1;32m---> 17\u001b[0m \u001b[43mno_vowels\u001b[49m\u001b[43m(\u001b[49m\u001b[43mstring_list\u001b[49m\u001b[43m)\u001b[49m\n",
      "Input \u001b[1;32mIn [68]\u001b[0m, in \u001b[0;36mno_vowels\u001b[1;34m(string_list)\u001b[0m\n\u001b[0;32m     12\u001b[0m \u001b[38;5;28;01mdef\u001b[39;00m \u001b[38;5;21mno_vowels\u001b[39m(string_list):\n\u001b[1;32m---> 13\u001b[0m     string_list2 \u001b[38;5;241m=\u001b[39m [i \u001b[38;5;28;01mfor\u001b[39;00m i \u001b[38;5;129;01min\u001b[39;00m string_list \u001b[38;5;28;01mif\u001b[39;00m \u001b[38;5;28mrange\u001b[39m(i) \u001b[38;5;241m!=\u001b[39m \u001b[38;5;124m\"\u001b[39m\u001b[38;5;124ma,e,i,o,u\u001b[39m\u001b[38;5;124m\"\u001b[39m]\n\u001b[0;32m     15\u001b[0m     \u001b[38;5;28;01mreturn\u001b[39;00m string_list2\n",
      "Input \u001b[1;32mIn [68]\u001b[0m, in \u001b[0;36m<listcomp>\u001b[1;34m(.0)\u001b[0m\n\u001b[0;32m     12\u001b[0m \u001b[38;5;28;01mdef\u001b[39;00m \u001b[38;5;21mno_vowels\u001b[39m(string_list):\n\u001b[1;32m---> 13\u001b[0m     string_list2 \u001b[38;5;241m=\u001b[39m [i \u001b[38;5;28;01mfor\u001b[39;00m i \u001b[38;5;129;01min\u001b[39;00m string_list \u001b[38;5;28;01mif\u001b[39;00m \u001b[38;5;28;43mrange\u001b[39;49m\u001b[43m(\u001b[49m\u001b[43mi\u001b[49m\u001b[43m)\u001b[49m \u001b[38;5;241m!=\u001b[39m \u001b[38;5;124m\"\u001b[39m\u001b[38;5;124ma,e,i,o,u\u001b[39m\u001b[38;5;124m\"\u001b[39m]\n\u001b[0;32m     15\u001b[0m     \u001b[38;5;28;01mreturn\u001b[39;00m string_list2\n",
      "\u001b[1;31mTypeError\u001b[0m: 'str' object cannot be interpreted as an integer"
     ]
    }
   ],
   "source": [
    "string_list = ['Sheldon','Pnny','Leonard','Hwrd','Rj','Amy','Strt']\n",
    "# output = ['Sheldon','Leonard','Amy']\n",
    "\n",
    "def vowels_only(a_list):\n",
    "    new_list = []\n",
    "    for string in a_list:\n",
    "       \n"
   ]
  },
  {
   "cell_type": "markdown",
   "metadata": {},
   "source": [
    "### Exercise 4\n",
    "Create a function that accepts a list as a parameter and returns a dictionary containing the list items as it's keys, and the number of times they appear in the list as the values"
   ]
  },
  {
   "cell_type": "code",
   "execution_count": 77,
   "metadata": {},
   "outputs": [
    {
     "name": "stdout",
     "output_type": "stream",
     "text": [
      "{'Draco': 1, 'Hermione': 2, 'Luna': 1, 'Ron': 4, 'Dobby': 1, 'Harry': 3}\n",
      "{'Draco': 1, 'Hermione': 2, 'Luna': 1, 'Ron': 4, 'Dobby': 1, 'Harry': 3}\n"
     ]
    }
   ],
   "source": [
    "example_list = [\"Harry\", 'Hermione','Harry','Ron','Dobby','Draco','Luna','Harry','Hermione','Ron','Ron','Ron']\n",
    "\n",
    "# output = {\n",
    "#     \"Harry\":3,\n",
    "#     \"Hermione\":2,\n",
    "#     \"Ron\":4,\n",
    "#     \"Dobby\":1,\n",
    "#     \"Draco\":1,\n",
    "#     \"Luna\": 1\n",
    "# }\n",
    "\n",
    "\n",
    "def name_counter(alist):\n",
    "    dict1 = {}\n",
    "    \n",
    "    for value in alist:\n",
    "        if value in dict1:\n",
    "            dict1[value] += 1\n",
    "        else:\n",
    "            dict1[value] = 1\n",
    "    \n",
    "    return dict1\n",
    "name_counter(example_list)\n",
    "\n",
    "\n",
    "#or#####\n",
    "\n",
    "\n",
    "new_dict = {}\n",
    "for i in set(example_list):\n",
    "    new_dict[i] = example_list.count(i)\n",
    "    \n",
    "print(new_dict)\n",
    "        \n",
    "#orr\n",
    "\n",
    "def counter(example_list):\n",
    "    return {i : example_list.count(i) for i in set(example_list)}\n",
    "\n",
    "print(counter(example_list))\n",
    "\n",
    "    \n",
    "    \n",
    "\n"
   ]
  },
  {
   "cell_type": "markdown",
   "metadata": {},
   "source": [
    "\n",
    "\n",
    "## Scope <br>\n",
    "<p>Scope refers to the ability to access variables, different types of scope include:<br>a) Global<br>b) Function (local)<br>c) Class (local)</p>"
   ]
  },
  {
   "cell_type": "code",
   "execution_count": 78,
   "metadata": {},
   "outputs": [
    {
     "name": "stdout",
     "output_type": "stream",
     "text": [
      "3\n",
      "6\n"
     ]
    }
   ],
   "source": [
    "# placement of variable declaration matters\n",
    "\n",
    "number = 3 # Gloal Variable\n",
    "\n",
    "def myFunc():\n",
    "    num_3 = 6 # Local Function Variable\n",
    "    return num_3\n",
    "\n",
    "print(number)\n",
    "return_num = myFunc()\n",
    "print(return_num)"
   ]
  },
  {
   "cell_type": "markdown",
   "metadata": {},
   "source": [
    "#### Return a function from a function"
   ]
  },
  {
   "cell_type": "code",
   "execution_count": 80,
   "metadata": {},
   "outputs": [
    {
     "name": "stdout",
     "output_type": "stream",
     "text": [
      "<function outer_func.<locals>.inner_func at 0x0000016B2D48CE50>\n"
     ]
    },
    {
     "data": {
      "text/plain": [
       "'inner_func with added message'"
      ]
     },
     "execution_count": 80,
     "metadata": {},
     "output_type": "execute_result"
    }
   ],
   "source": [
    "def outer_func(text):\n",
    "    \n",
    "    def inner_func():\n",
    "        return f\"inner_func with added {text}\"\n",
    "    \n",
    "    return inner_func\n",
    "\n",
    "var = outer_func('message')\n",
    "print(var)\n",
    "var()"
   ]
  },
  {
   "cell_type": "markdown",
   "metadata": {},
   "source": [
    "####Decorators\n",
    "<p> A decorator in Python is a function that takes another function as its argument, and returns yet another function . Decorators can be extremely useful as they allow the extension of an existing function, without any modification to the original function source code.\n",
    "</p>"
   ]
  },
  {
   "cell_type": "code",
   "execution_count": 81,
   "metadata": {},
   "outputs": [
    {
     "data": {
      "text/plain": [
       "'HELLO FROM THE RANGERS'"
      ]
     },
     "execution_count": 81,
     "metadata": {},
     "output_type": "execute_result"
    }
   ],
   "source": [
    "def print_hello():\n",
    "    return \"Hello from the rangers\"\n",
    "\n",
    "#decorator function to upper case\n",
    "def uppercasedecorator(function):\n",
    "    def wrapper():\n",
    "        func = function()\n",
    "        make_uppercase = func.upper()\n",
    "        return make_uppercase\n",
    "    return wrapper\n",
    "returned_func = uppercasedecorator(print_hello)\n",
    "\n",
    "returned_func()"
   ]
  },
  {
   "cell_type": "code",
   "execution_count": 82,
   "metadata": {},
   "outputs": [
    {
     "data": {
      "text/plain": [
       "'HELLO THERE'"
      ]
     },
     "execution_count": 82,
     "metadata": {},
     "output_type": "execute_result"
    }
   ],
   "source": [
    "# python decorator syntax\n",
    "@uppercasedecorator\n",
    "def say_hello():\n",
    "    return \"Hello There\"\n",
    "\n",
    "say_hello()"
   ]
  },
  {
   "cell_type": "markdown",
   "metadata": {},
   "source": [
    "# Homework Exercises"
   ]
  },
  {
   "cell_type": "markdown",
   "metadata": {},
   "source": [
    "## Exercise 1 <br>\n",
    "<p>Given a list as a parameter,write a function that returns a list of numbers that are less than ten</b></i></p><br>\n",
    "<p> For example: Say your input parameter to the function is [1,11,14,5,8,9]...Your output should [1,5,8,9]</p>"
   ]
  },
  {
   "cell_type": "code",
   "execution_count": 113,
   "metadata": {},
   "outputs": [
    {
     "data": {
      "text/plain": [
       "[1, 5, 8, 9]"
      ]
     },
     "execution_count": 113,
     "metadata": {},
     "output_type": "execute_result"
    }
   ],
   "source": [
    "# Use the following list - [1,11,14,5,8,9]\n",
    "\n",
    "l_1 = [1,11,14,5,8,9]\n",
    "def sub_10(l_1):\n",
    "    return [i for i in l_1 if i < 10]\n",
    "sub_10(l_1)\n",
    "    \n",
    "    "
   ]
  },
  {
   "cell_type": "markdown",
   "metadata": {},
   "source": [
    "## Exercise 2 <br>\n",
    "<p>Write a function that takes in two lists and returns the two lists merged together and sorted<br>\n",
    "<b><i>Hint: You can use the .sort() method</i></b></p>"
   ]
  },
  {
   "cell_type": "code",
   "execution_count": 111,
   "metadata": {},
   "outputs": [
    {
     "data": {
      "text/plain": [
       "[1, 2, 3, 3, 4, 4, 5, 5, 6, 6, 7, 8, 10]"
      ]
     },
     "execution_count": 111,
     "metadata": {},
     "output_type": "execute_result"
    }
   ],
   "source": [
    "l_1 = [1,2,3,4,5,6]\n",
    "l_2 = [3,4,5,6,7,8,10]\n",
    "def combine():\n",
    "    l_3 = l_1 + l_2\n",
    "    return sorted(l_3)\n",
    "\n",
    "combine()\n",
    "\n"
   ]
  },
  {
   "cell_type": "markdown",
   "metadata": {},
   "source": [
    "Q1: Create a function that returns the sum of the two lowest positive numbers given an array of minimum 4 positive integers. No floats or non-positive integers will be passed."
   ]
  },
  {
   "cell_type": "code",
   "execution_count": 114,
   "metadata": {},
   "outputs": [
    {
     "data": {
      "text/plain": [
       "7"
      ]
     },
     "execution_count": 114,
     "metadata": {},
     "output_type": "execute_result"
    }
   ],
   "source": [
    "example = [19, 5, 42, 2, 77]\n",
    "#output = 7\n",
    "def sum1(list1):\n",
    "    list2 = sorted(list1)\n",
    "    return sum(list2[0:2])\n",
    "sum1(example)\n",
    "\n"
   ]
  },
  {
   "cell_type": "markdown",
   "metadata": {},
   "source": [
    "Q2: Given an array of integers.Return an array, where the first element is the count of positives numbers and the second element is sum of negative numbers. 0 is neither positive nor negative.\n",
    "\n",
    "If the input array is empty or null, return an empty array.\n"
   ]
  },
  {
   "cell_type": "code",
   "execution_count": 116,
   "metadata": {},
   "outputs": [
    {
     "data": {
      "text/plain": [
       "[10, -65]"
      ]
     },
     "execution_count": 116,
     "metadata": {},
     "output_type": "execute_result"
    }
   ],
   "source": [
    "example_input = [1, 2, 3, 4, 5, 6, 7, 8, 9, 10, -11, -12, -13, -14, -15]\n",
    "# output  = [10,-65]\n",
    "\n",
    "def count_add(list4):\n",
    "    list5 = []\n",
    "    list6 = []\n",
    "    for i in list4:\n",
    "        if i < 0:\n",
    "            list5.append(i)\n",
    "        else:\n",
    "            list6.append(i)\n",
    "    return [len(list6), sum(list5)]\n",
    "\n",
    "count_add(example_input)\n",
    "\n",
    "        \n"
   ]
  },
  {
   "cell_type": "code",
   "execution_count": null,
   "metadata": {},
   "outputs": [],
   "source": []
  }
 ],
 "metadata": {
  "kernelspec": {
   "display_name": "Python 3 (ipykernel)",
   "language": "python",
   "name": "python3"
  },
  "language_info": {
   "codemirror_mode": {
    "name": "ipython",
    "version": 3
   },
   "file_extension": ".py",
   "mimetype": "text/x-python",
   "name": "python",
   "nbconvert_exporter": "python",
   "pygments_lexer": "ipython3",
   "version": "3.9.10"
  }
 },
 "nbformat": 4,
 "nbformat_minor": 2
}
